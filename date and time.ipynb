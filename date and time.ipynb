{
 "cells": [
  {
   "cell_type": "code",
   "execution_count": 4,
   "metadata": {},
   "outputs": [
    {
     "name": "stdout",
     "output_type": "stream",
     "text": [
      "time.struct_time(tm_year=1970, tm_mon=1, tm_mday=1, tm_hour=0, tm_min=0, tm_sec=0, tm_wday=3, tm_yday=1, tm_isdst=0)\n",
      "time.struct_time(tm_year=2020, tm_mon=6, tm_mday=28, tm_hour=14, tm_min=45, tm_sec=52, tm_wday=6, tm_yday=180, tm_isdst=0)\n",
      "1593335752.2434003\n"
     ]
    }
   ],
   "source": [
    "import time\n",
    "\n",
    "print(time.gmtime(0))\n",
    "print(time.localtime(time.time()))\n",
    "print(time.time())"
   ]
  },
  {
   "cell_type": "code",
   "execution_count": 8,
   "metadata": {},
   "outputs": [
    {
     "name": "stdout",
     "output_type": "stream",
     "text": [
      "Year:  2020 2020\n",
      "Month:  6 6\n",
      "Day:  28 28\n"
     ]
    }
   ],
   "source": [
    "import time\n",
    "time_here = time.localtime()\n",
    "print(\"Year: \",time_here[0],time_here.tm_year)\n",
    "print(\"Month: \",time_here[1],time_here.tm_mon)\n",
    "print(\"Day: \",time_here[2],time_here.tm_mday)"
   ]
  },
  {
   "cell_type": "code",
   "execution_count": 16,
   "metadata": {},
   "outputs": [
    {
     "name": "stdout",
     "output_type": "stream",
     "text": [
      "Press enter to start \n",
      "Press enter to end \n",
      "Start time at 15:19:06\n",
      "End time at 15:19:07\n",
      "Your reaction time was 1.4467475414276123 seconds\n"
     ]
    }
   ],
   "source": [
    "import time\n",
    "from time import time as my_timer\n",
    "import random\n",
    "\n",
    "input(\"Press enter to start \")\n",
    "wait_time = random.randint(1,6)\n",
    "time.sleep(wait_time)\n",
    "start_time = my_timer()\n",
    "input(\"Press enter to end \")\n",
    "end_time = my_timer()\n",
    "\n",
    "print(\"Start time at \" + time.strftime(\"%X\",time.localtime(start_time)))\n",
    "print(\"End time at \" + time.strftime(\"%X\",time.localtime(end_time)))\n",
    "\n",
    "print(\"Your reaction time was {} seconds\".format(end_time - start_time))\n",
    "\n"
   ]
  },
  {
   "cell_type": "code",
   "execution_count": null,
   "metadata": {},
   "outputs": [],
   "source": [
    "\n",
    "\n"
   ]
  }
 ],
 "metadata": {
  "kernelspec": {
   "display_name": "Python 3",
   "language": "python",
   "name": "python3"
  },
  "language_info": {
   "codemirror_mode": {
    "name": "ipython",
    "version": 3
   },
   "file_extension": ".py",
   "mimetype": "text/x-python",
   "name": "python",
   "nbconvert_exporter": "python",
   "pygments_lexer": "ipython3",
   "version": "3.7.6"
  }
 },
 "nbformat": 4,
 "nbformat_minor": 4
}
