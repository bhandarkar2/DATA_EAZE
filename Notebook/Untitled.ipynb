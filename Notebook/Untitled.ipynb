{
 "cells": [
  {
   "cell_type": "code",
   "execution_count": 1,
   "metadata": {},
   "outputs": [
    {
     "data": {
      "text/plain": [
       "25119.267806063883"
      ]
     },
     "execution_count": 1,
     "metadata": {},
     "output_type": "execute_result"
    }
   ],
   "source": [
    "import numpy as np\n",
    "incomes = np.random.normal(25000,15000,10000)\n",
    "np.mean(incomes)"
   ]
  },
  {
   "cell_type": "code",
   "execution_count": 3,
   "metadata": {},
   "outputs": [
    {
     "ename": "NameError",
     "evalue": "name 'np' is not defined",
     "output_type": "error",
     "traceback": [
      "\u001b[0;31m---------------------------------------------------------------------------\u001b[0m",
      "\u001b[0;31mNameError\u001b[0m                                 Traceback (most recent call last)",
      "\u001b[0;32m<ipython-input-3-af6317c7c19d>\u001b[0m in \u001b[0;36m<module>\u001b[0;34m\u001b[0m\n\u001b[0;32m----> 1\u001b[0;31m \u001b[0mnp\u001b[0m\u001b[0;34m.\u001b[0m\u001b[0mmedian\u001b[0m\u001b[0;34m(\u001b[0m\u001b[0mincomes\u001b[0m\u001b[0;34m)\u001b[0m\u001b[0;34m\u001b[0m\u001b[0;34m\u001b[0m\u001b[0m\n\u001b[0m\u001b[1;32m      2\u001b[0m \u001b[0mincomes\u001b[0m\u001b[0;34m.\u001b[0m\u001b[0mstd\u001b[0m\u001b[0;34m(\u001b[0m\u001b[0;34m)\u001b[0m\u001b[0;34m\u001b[0m\u001b[0;34m\u001b[0m\u001b[0m\n",
      "\u001b[0;31mNameError\u001b[0m: name 'np' is not defined"
     ]
    }
   ],
   "source": [
    "np.median(incomes)\n",
    "incomes.std()"
   ]
  },
  {
   "cell_type": "code",
   "execution_count": 2,
   "metadata": {},
   "outputs": [
    {
     "ename": "NameError",
     "evalue": "name 'incomes' is not defined",
     "output_type": "error",
     "traceback": [
      "\u001b[0;31m---------------------------------------------------------------------------\u001b[0m",
      "\u001b[0;31mNameError\u001b[0m                                 Traceback (most recent call last)",
      "\u001b[0;32m<ipython-input-2-20a15f43ad64>\u001b[0m in \u001b[0;36m<module>\u001b[0;34m\u001b[0m\n\u001b[1;32m      1\u001b[0m \u001b[0;32mimport\u001b[0m \u001b[0mmatplotlib\u001b[0m\u001b[0;34m.\u001b[0m\u001b[0mpyplot\u001b[0m \u001b[0;32mas\u001b[0m \u001b[0mplt\u001b[0m\u001b[0;34m\u001b[0m\u001b[0;34m\u001b[0m\u001b[0m\n\u001b[0;32m----> 2\u001b[0;31m \u001b[0mplt\u001b[0m\u001b[0;34m.\u001b[0m\u001b[0mhist\u001b[0m\u001b[0;34m(\u001b[0m\u001b[0mincomes\u001b[0m\u001b[0;34m,\u001b[0m\u001b[0;36m50\u001b[0m\u001b[0;34m)\u001b[0m\u001b[0;34m\u001b[0m\u001b[0;34m\u001b[0m\u001b[0m\n\u001b[0m\u001b[1;32m      3\u001b[0m \u001b[0mplt\u001b[0m\u001b[0;34m.\u001b[0m\u001b[0mshow\u001b[0m\u001b[0;34m(\u001b[0m\u001b[0mincomes\u001b[0m\u001b[0;34m)\u001b[0m\u001b[0;34m\u001b[0m\u001b[0;34m\u001b[0m\u001b[0m\n\u001b[1;32m      4\u001b[0m \u001b[0mincomes\u001b[0m\u001b[0;34m.\u001b[0m\u001b[0mstd\u001b[0m\u001b[0;34m(\u001b[0m\u001b[0;34m)\u001b[0m\u001b[0;34m\u001b[0m\u001b[0;34m\u001b[0m\u001b[0m\n",
      "\u001b[0;31mNameError\u001b[0m: name 'incomes' is not defined"
     ]
    }
   ],
   "source": [
    "import matplotlib.pyplot as plt\n",
    "plt.hist(incomes,50)\n",
    "plt.show(incomes)\n"
   ]
  },
  {
   "cell_type": "code",
   "execution_count": 6,
   "metadata": {},
   "outputs": [
    {
     "data": {
      "text/plain": [
       "25036.80884834243"
      ]
     },
     "execution_count": 6,
     "metadata": {},
     "output_type": "execute_result"
    }
   ],
   "source": [
    "np.median(incomes)"
   ]
  },
  {
   "cell_type": "code",
   "execution_count": 7,
   "metadata": {},
   "outputs": [
    {
     "data": {
      "text/plain": [
       "25119.267806063883"
      ]
     },
     "execution_count": 7,
     "metadata": {},
     "output_type": "execute_result"
    }
   ],
   "source": [
    "np.mean(incomes)"
   ]
  },
  {
   "cell_type": "code",
   "execution_count": 8,
   "metadata": {},
   "outputs": [
    {
     "data": {
      "text/plain": [
       "array([66, 60, 60, 39, 78, 78, 31, 60, 18, 39, 49, 80, 32, 20, 73, 69, 19,\n",
       "       60, 48, 80, 85, 18, 56, 36, 20, 83, 59, 18, 35, 38, 45, 74, 64, 44,\n",
       "       27, 86, 52, 26, 84, 30, 76, 23, 78, 31, 70, 23, 72, 68, 75, 74, 44,\n",
       "       30, 78, 74, 30, 42, 68, 37, 85, 50, 37, 71, 69, 32, 61, 85, 83, 84,\n",
       "       50, 20, 88, 79, 25, 69, 35, 41, 74, 82, 34, 25, 43, 74, 42, 66, 20,\n",
       "       42, 56, 23, 69, 60, 80, 58, 51, 27, 85, 68, 32, 45, 41, 39, 37, 67,\n",
       "       48, 28, 44, 43, 71, 43, 85, 21, 86, 85, 85, 40, 35, 24, 59, 80, 54,\n",
       "       42, 66, 84, 85, 46, 46, 25, 23, 22, 32, 27, 79, 21, 35, 57, 50, 66,\n",
       "       57, 76, 41, 70, 45, 18, 46, 66, 32, 47, 51, 56, 63, 83, 61, 47, 67,\n",
       "       54, 41, 84, 58, 89, 28, 85, 37, 66, 47, 48, 18, 57, 57, 87, 63, 74,\n",
       "       39, 41, 49, 40, 53, 36, 74, 37, 83, 24, 83, 79, 49, 50, 59, 69, 77,\n",
       "       33, 18, 45, 41, 64, 34, 34, 35, 54, 65, 48, 86, 43, 86, 28, 76, 48,\n",
       "       53, 24, 47, 74, 32, 52, 52, 88, 81, 71, 55, 68, 83, 73, 24, 22, 44,\n",
       "       66, 69, 79, 53, 59, 68, 53, 69, 76, 33, 62, 54, 48, 80, 56, 40, 79,\n",
       "       62, 37, 65, 39, 56, 41, 31, 32, 21, 46, 56, 59, 35, 39, 54, 33, 51,\n",
       "       59, 38, 60, 65, 75, 28, 18, 25, 64, 47, 65, 66, 21, 37, 30, 28, 73,\n",
       "       51, 48, 66, 21, 70, 36, 37, 72, 76, 58, 35, 72, 48, 73, 28, 49, 29,\n",
       "       18, 29, 26, 66, 24, 75, 35, 84, 60, 82, 36, 83, 61, 65, 80, 55, 51,\n",
       "       32, 27, 41, 65, 81, 32, 31, 49, 77, 27, 36, 60, 38, 72, 24, 28, 26,\n",
       "       29, 83, 43, 18, 45, 77, 81, 66, 29, 36, 50, 67, 47, 69, 51, 74, 73,\n",
       "       87, 83, 43, 73, 41, 47, 45, 70, 40, 47, 42, 28, 66, 40, 45, 88, 28,\n",
       "       76, 77, 18, 55, 68, 41, 37, 82, 51, 34, 35, 38, 38, 28, 74, 36, 59,\n",
       "       26, 32, 47, 34, 60, 25, 83, 64, 64, 58, 41, 52, 68, 60, 45, 74, 65,\n",
       "       65, 64, 87, 19, 31, 67, 25, 36, 80, 31, 28, 27, 61, 30, 87, 34, 29,\n",
       "       79, 45, 63, 80, 72, 22, 40, 88, 49, 61, 21, 78, 71, 52, 87, 42, 55,\n",
       "       75, 43, 56, 43, 89, 89, 18, 66, 24, 72, 35, 23, 69, 70, 77, 33, 26,\n",
       "       36, 71, 79, 53, 59, 64, 68, 70, 67, 81, 86, 36, 62, 78, 22, 22, 26,\n",
       "       87, 86, 81, 81, 87, 84, 86, 71, 61, 88, 77, 63, 58, 32, 67, 22, 61,\n",
       "       31, 72, 54, 66, 85, 87, 68, 86, 33, 62, 19, 52, 41, 42, 24, 73, 18,\n",
       "       50, 44, 72, 77, 35, 88, 88])"
      ]
     },
     "execution_count": 8,
     "metadata": {},
     "output_type": "execute_result"
    }
   ],
   "source": [
    "ages = np.random.randint(18, high=90,size=500)\n",
    "ages\n"
   ]
  },
  {
   "cell_type": "code",
   "execution_count": 11,
   "metadata": {},
   "outputs": [
    {
     "data": {
      "text/plain": [
       "ModeResult(mode=array([66]), count=array([14]))"
      ]
     },
     "execution_count": 11,
     "metadata": {},
     "output_type": "execute_result"
    }
   ],
   "source": [
    "from scipy import stats\n",
    "stats.mode(ages)"
   ]
  },
  {
   "cell_type": "code",
   "execution_count": 1,
   "metadata": {},
   "outputs": [
    {
     "ename": "NameError",
     "evalue": "name 'incomes' is not defined",
     "output_type": "error",
     "traceback": [
      "\u001b[0;31m---------------------------------------------------------------------------\u001b[0m",
      "\u001b[0;31mNameError\u001b[0m                                 Traceback (most recent call last)",
      "\u001b[0;32m<ipython-input-1-c059529306c6>\u001b[0m in \u001b[0;36m<module>\u001b[0;34m\u001b[0m\n\u001b[0;32m----> 1\u001b[0;31m \u001b[0mincomes\u001b[0m\u001b[0;34m.\u001b[0m\u001b[0mstd\u001b[0m\u001b[0;34m(\u001b[0m\u001b[0;34m)\u001b[0m\u001b[0;34m\u001b[0m\u001b[0;34m\u001b[0m\u001b[0m\n\u001b[0m",
      "\u001b[0;31mNameError\u001b[0m: name 'incomes' is not defined"
     ]
    }
   ],
   "source": [
    "incomes.std()"
   ]
  },
  {
   "cell_type": "code",
   "execution_count": null,
   "metadata": {},
   "outputs": [],
   "source": []
  }
 ],
 "metadata": {
  "kernelspec": {
   "display_name": "Python 3",
   "language": "python",
   "name": "python3"
  },
  "language_info": {
   "codemirror_mode": {
    "name": "ipython",
    "version": 3
   },
   "file_extension": ".py",
   "mimetype": "text/x-python",
   "name": "python",
   "nbconvert_exporter": "python",
   "pygments_lexer": "ipython3",
   "version": "3.7.6"
  }
 },
 "nbformat": 4,
 "nbformat_minor": 4
}
