{
 "cells": [
  {
   "cell_type": "code",
   "execution_count": 27,
   "metadata": {},
   "outputs": [
    {
     "data": {
      "text/plain": [
       "100.22014889713226"
      ]
     },
     "execution_count": 27,
     "metadata": {},
     "output_type": "execute_result"
    }
   ],
   "source": [
    "import numpy as np\n",
    "incomes = np.random.normal(100.2,20.0,10000)\n",
    "np.mean(incomes)"
   ]
  },
  {
   "cell_type": "code",
   "execution_count": 28,
   "metadata": {},
   "outputs": [
    {
     "data": {
      "text/plain": [
       "99.98894917448267"
      ]
     },
     "execution_count": 28,
     "metadata": {},
     "output_type": "execute_result"
    }
   ],
   "source": [
    "np.median(incomes)"
   ]
  },
  {
   "cell_type": "code",
   "execution_count": 1,
   "metadata": {},
   "outputs": [
    {
     "ename": "NameError",
     "evalue": "name 'incomes' is not defined",
     "output_type": "error",
     "traceback": [
      "\u001b[0;31m---------------------------------------------------------------------------\u001b[0m",
      "\u001b[0;31mNameError\u001b[0m                                 Traceback (most recent call last)",
      "\u001b[0;32m<ipython-input-1-76f330dcdfe7>\u001b[0m in \u001b[0;36m<module>\u001b[0;34m\u001b[0m\n\u001b[1;32m      1\u001b[0m \u001b[0;32mimport\u001b[0m \u001b[0mmatplotlib\u001b[0m\u001b[0;34m.\u001b[0m\u001b[0mpyplot\u001b[0m \u001b[0;32mas\u001b[0m \u001b[0mplt\u001b[0m\u001b[0;34m\u001b[0m\u001b[0;34m\u001b[0m\u001b[0m\n\u001b[0;32m----> 2\u001b[0;31m \u001b[0mplt\u001b[0m\u001b[0;34m.\u001b[0m\u001b[0mhist\u001b[0m\u001b[0;34m(\u001b[0m\u001b[0mincomes\u001b[0m\u001b[0;34m,\u001b[0m\u001b[0;36m50\u001b[0m\u001b[0;34m)\u001b[0m\u001b[0;34m\u001b[0m\u001b[0;34m\u001b[0m\u001b[0m\n\u001b[0m\u001b[1;32m      3\u001b[0m \u001b[0mplt\u001b[0m\u001b[0;34m.\u001b[0m\u001b[0mshow\u001b[0m\u001b[0;34m(\u001b[0m\u001b[0mincomes\u001b[0m\u001b[0;34m)\u001b[0m\u001b[0;34m\u001b[0m\u001b[0;34m\u001b[0m\u001b[0m\n",
      "\u001b[0;31mNameError\u001b[0m: name 'incomes' is not defined"
     ]
    }
   ],
   "source": []
  },
  {
   "cell_type": "code",
   "execution_count": null,
   "metadata": {},
   "outputs": [],
   "source": []
  },
  {
   "cell_type": "code",
   "execution_count": 26,
   "metadata": {},
   "outputs": [
    {
     "data": {
      "text/plain": [
       "99.7677148846165"
      ]
     },
     "execution_count": 26,
     "metadata": {},
     "output_type": "execute_result"
    }
   ],
   "source": [
    "np.median(incomes)"
   ]
  },
  {
   "cell_type": "code",
   "execution_count": 23,
   "metadata": {},
   "outputs": [
    {
     "data": {
      "text/plain": [
       "1099.8114881994334"
      ]
     },
     "execution_count": 23,
     "metadata": {},
     "output_type": "execute_result"
    }
   ],
   "source": [
    "np.mean(incomes)"
   ]
  },
  {
   "cell_type": "code",
   "execution_count": 25,
   "metadata": {},
   "outputs": [],
   "source": [
    "ages = np.random.randint(18,high = 90,size = 500)"
   ]
  },
  {
   "cell_type": "code",
   "execution_count": 24,
   "metadata": {},
   "outputs": [
    {
     "data": {
      "text/plain": [
       "array([38, 56, 81, 79, 68, 77, 18, 33, 31, 89, 31, 46, 59, 81, 59, 27, 49,\n",
       "       71, 56, 83, 37, 66, 69, 60, 35, 46, 45, 45, 55, 37, 54, 20, 72, 55,\n",
       "       27, 38, 24, 31, 88, 27, 31, 69, 25, 49, 36, 38, 64, 64, 79, 70, 20,\n",
       "       25, 69, 32, 57, 33, 32, 51, 33, 20, 84, 68, 36, 71, 51, 39, 52, 69,\n",
       "       24, 79, 59, 78, 68, 86, 47, 65, 82, 36, 75, 75, 71, 83, 80, 69, 69,\n",
       "       84, 42, 50, 72, 68, 84, 76, 84, 52, 39, 47, 46, 67, 32, 36, 20, 73,\n",
       "       50, 49, 67, 26, 51, 41, 32, 79, 84, 33, 49, 53, 68, 50, 20, 45, 52,\n",
       "       19, 21, 36, 58, 65, 75, 76, 35, 31, 71, 75, 88, 21, 54, 76, 83, 87,\n",
       "       34, 39, 79, 50, 37, 87, 25, 24, 70, 40, 59, 35, 72, 78, 19, 55, 67,\n",
       "       80, 67, 56, 43, 51, 53, 44, 79, 57, 83, 33, 89, 27, 63, 56, 55, 89,\n",
       "       48, 82, 58, 68, 47, 60, 77, 77, 69, 38, 85, 25, 26, 87, 40, 63, 68,\n",
       "       42, 61, 66, 23, 71, 24, 42, 52, 64, 48, 57, 50, 77, 52, 76, 60, 53,\n",
       "       32, 40, 32, 69, 77, 56, 33, 62, 75, 73, 68, 62, 19, 52, 21, 33, 26,\n",
       "       38, 64, 54, 57, 73, 55, 65, 27, 43, 77, 49, 18, 59, 35, 25, 70, 86,\n",
       "       55, 72, 21, 86, 47, 29, 51, 25, 74, 74, 87, 38, 43, 63, 74, 48, 84,\n",
       "       72, 86, 70, 51, 36, 30, 29, 68, 84, 75, 79, 84, 24, 56, 37, 73, 26,\n",
       "       33, 69, 87, 89, 25, 63, 61, 71, 46, 68, 83, 73, 78, 50, 20, 89, 38,\n",
       "       69, 78, 30, 55, 71, 20, 65, 79, 33, 79, 26, 46, 85, 50, 56, 22, 57,\n",
       "       19, 59, 29, 21, 64, 70, 34, 87, 66, 86, 27, 37, 51, 23, 76, 45, 47,\n",
       "       65, 47, 69, 67, 41, 50, 84, 72, 55, 34, 34, 49, 89, 38, 76, 75, 88,\n",
       "       52, 78, 26, 57, 19, 81, 40, 63, 41, 46, 27, 62, 86, 19, 28, 34, 46,\n",
       "       72, 50, 59, 52, 75, 34, 88, 21, 26, 85, 55, 80, 55, 83, 76, 44, 64,\n",
       "       74, 44, 64, 22, 67, 50, 19, 58, 53, 59, 73, 56, 68, 84, 77, 46, 43,\n",
       "       69, 87, 44, 33, 31, 75, 22, 28, 30, 37, 50, 76, 79, 54, 70, 21, 40,\n",
       "       86, 64, 53, 22, 41, 33, 76, 46, 35, 89, 43, 55, 47, 45, 43, 84, 39,\n",
       "       86, 84, 84, 86, 79, 68, 26, 32, 84, 51, 23, 26, 36, 39, 79, 76, 46,\n",
       "       28, 65, 25, 44, 47, 57, 52, 30, 56, 57, 57, 33, 68, 34, 37, 30, 82,\n",
       "       88, 65, 86, 38, 89, 84, 72, 85, 71, 65, 77, 62, 85, 44, 45, 71, 35,\n",
       "       69, 24, 36, 66, 77, 31, 47, 87, 66, 44, 31, 66, 27, 81, 54, 39, 85,\n",
       "       23, 80, 75, 88, 45, 45, 33])"
      ]
     },
     "execution_count": 24,
     "metadata": {},
     "output_type": "execute_result"
    }
   ],
   "source": [
    "ages"
   ]
  },
  {
   "cell_type": "code",
   "execution_count": null,
   "metadata": {},
   "outputs": [],
   "source": []
  },
  {
   "cell_type": "code",
   "execution_count": null,
   "metadata": {},
   "outputs": [],
   "source": [
    "\n"
   ]
  },
  {
   "cell_type": "code",
   "execution_count": null,
   "metadata": {},
   "outputs": [],
   "source": []
  },
  {
   "cell_type": "code",
   "execution_count": null,
   "metadata": {},
   "outputs": [],
   "source": []
  },
  {
   "cell_type": "code",
   "execution_count": null,
   "metadata": {},
   "outputs": [],
   "source": []
  }
 ],
 "metadata": {
  "kernelspec": {
   "display_name": "Python 3",
   "language": "python",
   "name": "python3"
  },
  "language_info": {
   "codemirror_mode": {
    "name": "ipython",
    "version": 3
   },
   "file_extension": ".py",
   "mimetype": "text/x-python",
   "name": "python",
   "nbconvert_exporter": "python",
   "pygments_lexer": "ipython3",
   "version": "3.7.6"
  }
 },
 "nbformat": 4,
 "nbformat_minor": 4
}
